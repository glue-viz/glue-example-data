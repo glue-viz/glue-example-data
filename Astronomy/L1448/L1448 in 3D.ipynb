{
 "cells": [
  {
   "cell_type": "markdown",
   "metadata": {},
   "source": [
    "## Exploring the L1448 data in 3D\n",
    "\n",
    "L1448 is a region within the [Perseus Molecular Cloud](https://en.wikipedia.org/wiki/Perseus_molecular_cloud), a star-formation region located at a distance of 600ly from the Sun. This notebook takes a look at a *spectral cube*, a 3D dataset where two dimensions are the spatial positions on the sky, and the third dimension is e.g. wavelength.\n",
    "\n",
    "Let's start up glue and load in the main data file:"
   ]
  },
  {
   "cell_type": "code",
   "execution_count": 1,
   "metadata": {},
   "outputs": [
    {
     "data": {
      "application/vnd.jupyter.widget-view+json": {
       "model_id": "7602001eaeba41d0b9f2f10469054fa3",
       "version_major": 2,
       "version_minor": 0
      },
      "text/plain": [
       "VBox(children=(ToggleButtons(description='Selection mode:', options=('replace', 'add', 'and', 'xor', 'remove')…"
      ]
     },
     "metadata": {},
     "output_type": "display_data"
    }
   ],
   "source": [
    "import glue_jupyter as gj\n",
    "app = gj.jglue()"
   ]
  },
  {
   "cell_type": "code",
   "execution_count": 2,
   "metadata": {},
   "outputs": [],
   "source": [
    "cube = app.load_data('l1448_13co.fits')"
   ]
  },
  {
   "cell_type": "markdown",
   "metadata": {},
   "source": [
    "### 3D volume rendering viewer\n",
    "\n",
    "We can start off by taking a look at the data in the volume viewer:"
   ]
  },
  {
   "cell_type": "code",
   "execution_count": 3,
   "metadata": {
    "scrolled": false
   },
   "outputs": [
    {
     "data": {
      "application/vnd.jupyter.widget-view+json": {
       "model_id": "066e7253e081490f9b5dd000be0df3c2",
       "version_major": 2,
       "version_minor": 0
      },
      "text/plain": [
       "VBox(children=(Tab(children=(VBox(children=(ToggleButtons(description='Mode: ', icons=('arrows', 'pencil-squar…"
      ]
     },
     "metadata": {},
     "output_type": "display_data"
    },
    {
     "data": {
      "text/plain": [
       "<glue_jupyter.ipyvolume.view.IpyvolumeVolumeView at 0x8281d96d8>"
      ]
     },
     "execution_count": 3,
     "metadata": {},
     "output_type": "execute_result"
    }
   ],
   "source": [
    "app.volshow(data=cube)"
   ]
  }
 ],
 "metadata": {
  "kernelspec": {
   "display_name": "Python 3",
   "language": "python",
   "name": "python3"
  },
  "language_info": {
   "codemirror_mode": {
    "name": "ipython",
    "version": 3
   },
   "file_extension": ".py",
   "mimetype": "text/x-python",
   "name": "python",
   "nbconvert_exporter": "python",
   "pygments_lexer": "ipython3",
   "version": "3.6.4"
  }
 },
 "nbformat": 4,
 "nbformat_minor": 2
}
